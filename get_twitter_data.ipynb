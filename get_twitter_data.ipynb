{
 "cells": [
  {
   "cell_type": "code",
   "execution_count": null,
   "id": "ad28a374",
   "metadata": {},
   "outputs": [],
   "source": [
    "\n",
    "import twint as t\n",
    "from datetime import date\n",
    "import os\n",
    "from os.path import exists\n",
    "\n",
    "#To make twint run inside juypter notebook\n",
    "import nest_asyncio \n",
    "\n",
    "nest_asyncio.apply()"
   ]
  },
  {
   "cell_type": "code",
   "execution_count": null,
   "id": "76a48fd6",
   "metadata": {},
   "outputs": [],
   "source": [
    "\n",
    "today = date.today()\n",
    "today = str(today)\n",
    "print(\"Today's date:\", today)\n",
    "\n",
    "path = \"./data/twitter/\" + today\n",
    "\n",
    "if exists(path) == False:\n",
    "    os.mkdir(path)\n",
    "\n",
    "    path_btc = \"./data/twitter/\" + today + \"/BTC\"\n",
    "    path_eth = \"./data/twitter/\" + today + \"/ETH\"\n",
    "    path_xrp = \"./data/twitter/\" + today + \"/XRP\"\n",
    "    path_gen = \"./data/twitter/\" + today + \"/gen\"\n",
    "\n",
    "    if exists(path_btc) == False:\n",
    "        os.mkdir(path_btc)\n",
    "        \n",
    "    if exists(path_eth) == False:\n",
    "        os.mkdir(path_eth)\n",
    "        \n",
    "    if exists(path_xrp) == False:\n",
    "        os.mkdir(path_xrp)\n",
    "        \n",
    "    if exists(path_gen) == False:\n",
    "        os.mkdir(path_gen)\n"
   ]
  },
  {
   "cell_type": "code",
   "execution_count": null,
   "id": "07a696c9",
   "metadata": {},
   "outputs": [],
   "source": [
    "\n",
    "#BTC Tweets Gatherer\n",
    "\n",
    "# Search List\n",
    "s_list = ['#BTC', '#bitcoin']\n",
    "\n",
    "for dat_thang in s_list:\n",
    "\n",
    "    # Configure\n",
    "    c = t.Config()\n",
    "    c.Search = dat_thang\n",
    "    c.Limit = \"10000\"\n",
    "    c.Lang = \"en\"\n",
    "    c.Store_json = True\n",
    "    c.Output = \"./data/twitter/\" + today + \"/BTC/\" + dat_thang + \".json\"\n",
    "\n",
    "    # Run\n",
    "    t.run.Search(c)"
   ]
  },
  {
   "cell_type": "code",
   "execution_count": null,
   "id": "487002ef-2497-4220-b356-3fa243ba2ba0",
   "metadata": {},
   "outputs": [],
   "source": [
    "\n",
    "#ETH Tweets Gatherer\n",
    "\n",
    "# Search List\n",
    "s_list = ['#ETH', '#ethereum']\n",
    "\n",
    "for dat_thang in s_list:\n",
    "\n",
    "    # Configure\n",
    "    c = t.Config()\n",
    "    c.Search = dat_thang\n",
    "    c.Limit = \"10000\"\n",
    "    c.Lang = \"en\"\n",
    "    c.Store_json = True\n",
    "    c.Output = \"./data/twitter/\" + today + \"/ETH/\" + dat_thang + \".json\"\n",
    "\n",
    "    # Run\n",
    "    t.run.Search(c)\n",
    "    "
   ]
  },
  {
   "cell_type": "code",
   "execution_count": null,
   "id": "adbe3d0f",
   "metadata": {},
   "outputs": [],
   "source": [
    "\n",
    "#XRP Tweets Gatherer\n",
    "\n",
    "# Search List\n",
    "s_list = ['#XRP', 'ripple']\n",
    "\n",
    "for dat_thang in s_list:\n",
    "\n",
    "    # Configure\n",
    "    c = t.Config()\n",
    "    c.Search = dat_thang\n",
    "    c.Limit = \"10000\"\n",
    "    c.Lang = \"en\"\n",
    "    c.Store_json = True\n",
    "    c.Output = \"./data/twitter/\" + today + \"/XRP/\" + dat_thang + \".json\"\n",
    "\n",
    "    # Run\n",
    "    t.run.Search(c)\n",
    "    "
   ]
  },
  {
   "cell_type": "code",
   "execution_count": null,
   "id": "f2a9dc71",
   "metadata": {},
   "outputs": [],
   "source": [
    "\n",
    "#General Crypto Info Gatherer\n",
    "\n",
    "# Search List\n",
    "s_list = ['#crypto', '#cryptocurrency', '#cryptocurrency', '#cryptotrading', '#cryptocurrencies', '#cryptonews']\n",
    "\n",
    "for dat_thang in s_list:\n",
    "\n",
    "    # Configure\n",
    "    c = t.Config()\n",
    "    c.Search = dat_thang\n",
    "    c.Limit = \"5000\"\n",
    "    c.Lang = \"en\"\n",
    "    c.Store_json = True\n",
    "    c.Output = \"./data/twitter/\" + today + \"/gen/\" + dat_thang + \".json\"\n",
    "\n",
    "    # Run\n",
    "    t.run.Search(c)"
   ]
  }
 ],
 "metadata": {
  "interpreter": {
   "hash": "4710bfcdbde1e48fe658799ca8c8f996a7c8879356efb4edf2e8b9b61ce4d18c"
  },
  "kernelspec": {
   "display_name": "Python 3",
   "language": "python",
   "name": "python3"
  },
  "language_info": {
   "codemirror_mode": {
    "name": "ipython",
    "version": 3
   },
   "file_extension": ".py",
   "mimetype": "text/x-python",
   "name": "python",
   "nbconvert_exporter": "python",
   "pygments_lexer": "ipython3",
   "version": "3.9.6"
  }
 },
 "nbformat": 4,
 "nbformat_minor": 5
}
